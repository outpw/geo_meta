{
 "cells": [
  {
   "cell_type": "code",
   "execution_count": 3,
   "metadata": {},
   "outputs": [],
   "source": [
    "import pandas as pd\n",
    "import numpy as np\n",
    "import json\n",
    "import matplotlib.pyplot as plt\n",
    "import os"
   ]
  },
  {
   "cell_type": "code",
   "execution_count": 4,
   "metadata": {},
   "outputs": [],
   "source": [
    "os.chdir('C:\\\\Users\\\\phwh9568\\\\geometaanalytics')"
   ]
  },
  {
   "cell_type": "code",
   "execution_count": 5,
   "metadata": {},
   "outputs": [],
   "source": [
    "file = open('catMatches.json', encoding = 'utf-8')\n",
    "data = json.load(file)"
   ]
  },
  {
   "cell_type": "code",
   "execution_count": 7,
   "metadata": {},
   "outputs": [],
   "source": [
    "cats = data['data']"
   ]
  },
  {
   "cell_type": "markdown",
   "metadata": {},
   "source": [
    "Convert json formatted data to csv:"
   ]
  },
  {
   "cell_type": "code",
   "execution_count": null,
   "metadata": {},
   "outputs": [],
   "source": [
    "with open('catMatches_unique.csv', 'w', newline='', encoding='utf-8') as f:\n",
    "    writer = csv.writer(f)\n",
    "    writer.writerow(['Query Type','Queries', 'Matches', 'Unmatched', 'dc:description', 'dc:rights', 'geom_type', 'dct:provenance', 'dc:format', 'dc:publisher', 'dc:title', 'dc:subject', 'dc:creator', 'dct:spatial'])\n",
    "    for item in cats:\n",
    "        cat = item['cat']\n",
    "        totalQ = item['totalQueries']\n",
    "        matches = item['matches_count']\n",
    "        no_matches = item['no_matches_count']\n",
    "        desc = item['dc_description_count']\n",
    "        rights = item['dc_rights_count']\n",
    "        geom= item['layer_geom_type_count']\n",
    "        prov = item['dct_provenance_count']\n",
    "        form = item['dc_format_count']\n",
    "        pub = item['dc_publisher_count']\n",
    "        title = item['dc_title_count']\n",
    "        subj = item['dc_subject_count']\n",
    "        creator = item['dc_creator_count']\n",
    "        spatial = item['dct_spatial_count']\n",
    "        writer.writerow([cat, totalQ, matches, no_matches, desc, rights, geom, prov, form, pub, title, subj, creator, spatial])"
   ]
  },
  {
   "cell_type": "markdown",
   "metadata": {},
   "source": [
    "Import new csv to pandas df:"
   ]
  },
  {
   "cell_type": "code",
   "execution_count": 9,
   "metadata": {},
   "outputs": [],
   "source": [
    "unique = pd.read_csv('catMatches.csv', encoding='utf-8')"
   ]
  },
  {
   "cell_type": "code",
   "execution_count": 10,
   "metadata": {},
   "outputs": [],
   "source": [
    "unique.sort_values('Queries', ascending=False, inplace=True)"
   ]
  },
  {
   "cell_type": "markdown",
   "metadata": {},
   "source": [
    "Create new column representing match rates as a percentage:"
   ]
  },
  {
   "cell_type": "code",
   "execution_count": 11,
   "metadata": {},
   "outputs": [],
   "source": [
    "unique['MatchPerc'] = (unique['Matches']/unique['Queries'])*100"
   ]
  },
  {
   "cell_type": "markdown",
   "metadata": {},
   "source": [
    "Capitalize query types:"
   ]
  },
  {
   "cell_type": "code",
   "execution_count": 12,
   "metadata": {},
   "outputs": [],
   "source": [
    "unique['Query Type'] = unique['Query Type'].str.capitalize()"
   ]
  },
  {
   "cell_type": "markdown",
   "metadata": {},
   "source": [
    "Look at the dataframe:"
   ]
  },
  {
   "cell_type": "code",
   "execution_count": 14,
   "metadata": {},
   "outputs": [
    {
     "data": {
      "text/html": [
       "<div>\n",
       "<style scoped>\n",
       "    .dataframe tbody tr th:only-of-type {\n",
       "        vertical-align: middle;\n",
       "    }\n",
       "\n",
       "    .dataframe tbody tr th {\n",
       "        vertical-align: top;\n",
       "    }\n",
       "\n",
       "    .dataframe thead th {\n",
       "        text-align: right;\n",
       "    }\n",
       "</style>\n",
       "<table border=\"1\" class=\"dataframe\">\n",
       "  <thead>\n",
       "    <tr style=\"text-align: right;\">\n",
       "      <th></th>\n",
       "      <th>Query Type</th>\n",
       "      <th>Queries</th>\n",
       "      <th>Matches</th>\n",
       "      <th>Unmatched</th>\n",
       "      <th>dc:description</th>\n",
       "      <th>dc:rights</th>\n",
       "      <th>geom_type</th>\n",
       "      <th>dct:provenance</th>\n",
       "      <th>dc:format</th>\n",
       "      <th>dc:publisher</th>\n",
       "      <th>dc:title</th>\n",
       "      <th>dc:subject</th>\n",
       "      <th>dc:creator</th>\n",
       "      <th>dct:spatial</th>\n",
       "      <th>MatchPerc</th>\n",
       "    </tr>\n",
       "  </thead>\n",
       "  <tbody>\n",
       "    <tr>\n",
       "      <td>7</td>\n",
       "      <td>Topical</td>\n",
       "      <td>192</td>\n",
       "      <td>128</td>\n",
       "      <td>64</td>\n",
       "      <td>121</td>\n",
       "      <td>0</td>\n",
       "      <td>0</td>\n",
       "      <td>16</td>\n",
       "      <td>0</td>\n",
       "      <td>29</td>\n",
       "      <td>89</td>\n",
       "      <td>76</td>\n",
       "      <td>36</td>\n",
       "      <td>24</td>\n",
       "      <td>66.666667</td>\n",
       "    </tr>\n",
       "    <tr>\n",
       "      <td>5</td>\n",
       "      <td>Placename</td>\n",
       "      <td>188</td>\n",
       "      <td>147</td>\n",
       "      <td>41</td>\n",
       "      <td>147</td>\n",
       "      <td>0</td>\n",
       "      <td>1</td>\n",
       "      <td>78</td>\n",
       "      <td>0</td>\n",
       "      <td>66</td>\n",
       "      <td>129</td>\n",
       "      <td>59</td>\n",
       "      <td>67</td>\n",
       "      <td>117</td>\n",
       "      <td>78.191489</td>\n",
       "    </tr>\n",
       "    <tr>\n",
       "      <td>2</td>\n",
       "      <td>Locational</td>\n",
       "      <td>179</td>\n",
       "      <td>136</td>\n",
       "      <td>43</td>\n",
       "      <td>131</td>\n",
       "      <td>1</td>\n",
       "      <td>0</td>\n",
       "      <td>28</td>\n",
       "      <td>0</td>\n",
       "      <td>39</td>\n",
       "      <td>106</td>\n",
       "      <td>85</td>\n",
       "      <td>45</td>\n",
       "      <td>48</td>\n",
       "      <td>75.977654</td>\n",
       "    </tr>\n",
       "    <tr>\n",
       "      <td>0</td>\n",
       "      <td>Datatype</td>\n",
       "      <td>29</td>\n",
       "      <td>18</td>\n",
       "      <td>11</td>\n",
       "      <td>18</td>\n",
       "      <td>0</td>\n",
       "      <td>0</td>\n",
       "      <td>6</td>\n",
       "      <td>0</td>\n",
       "      <td>3</td>\n",
       "      <td>8</td>\n",
       "      <td>2</td>\n",
       "      <td>3</td>\n",
       "      <td>7</td>\n",
       "      <td>62.068966</td>\n",
       "    </tr>\n",
       "    <tr>\n",
       "      <td>6</td>\n",
       "      <td>Publication</td>\n",
       "      <td>27</td>\n",
       "      <td>26</td>\n",
       "      <td>1</td>\n",
       "      <td>26</td>\n",
       "      <td>0</td>\n",
       "      <td>0</td>\n",
       "      <td>14</td>\n",
       "      <td>1</td>\n",
       "      <td>23</td>\n",
       "      <td>22</td>\n",
       "      <td>21</td>\n",
       "      <td>22</td>\n",
       "      <td>14</td>\n",
       "      <td>96.296296</td>\n",
       "    </tr>\n",
       "    <tr>\n",
       "      <td>3</td>\n",
       "      <td>Organization</td>\n",
       "      <td>14</td>\n",
       "      <td>11</td>\n",
       "      <td>3</td>\n",
       "      <td>11</td>\n",
       "      <td>0</td>\n",
       "      <td>0</td>\n",
       "      <td>3</td>\n",
       "      <td>0</td>\n",
       "      <td>7</td>\n",
       "      <td>9</td>\n",
       "      <td>3</td>\n",
       "      <td>6</td>\n",
       "      <td>3</td>\n",
       "      <td>78.571429</td>\n",
       "    </tr>\n",
       "    <tr>\n",
       "      <td>8</td>\n",
       "      <td>Unknown</td>\n",
       "      <td>7</td>\n",
       "      <td>2</td>\n",
       "      <td>5</td>\n",
       "      <td>2</td>\n",
       "      <td>0</td>\n",
       "      <td>0</td>\n",
       "      <td>0</td>\n",
       "      <td>0</td>\n",
       "      <td>0</td>\n",
       "      <td>0</td>\n",
       "      <td>0</td>\n",
       "      <td>0</td>\n",
       "      <td>0</td>\n",
       "      <td>28.571429</td>\n",
       "    </tr>\n",
       "    <tr>\n",
       "      <td>1</td>\n",
       "      <td>Format</td>\n",
       "      <td>6</td>\n",
       "      <td>4</td>\n",
       "      <td>2</td>\n",
       "      <td>4</td>\n",
       "      <td>0</td>\n",
       "      <td>0</td>\n",
       "      <td>1</td>\n",
       "      <td>1</td>\n",
       "      <td>2</td>\n",
       "      <td>4</td>\n",
       "      <td>4</td>\n",
       "      <td>2</td>\n",
       "      <td>1</td>\n",
       "      <td>66.666667</td>\n",
       "    </tr>\n",
       "    <tr>\n",
       "      <td>4</td>\n",
       "      <td>Person</td>\n",
       "      <td>1</td>\n",
       "      <td>0</td>\n",
       "      <td>1</td>\n",
       "      <td>0</td>\n",
       "      <td>0</td>\n",
       "      <td>0</td>\n",
       "      <td>0</td>\n",
       "      <td>0</td>\n",
       "      <td>0</td>\n",
       "      <td>0</td>\n",
       "      <td>0</td>\n",
       "      <td>0</td>\n",
       "      <td>0</td>\n",
       "      <td>0.000000</td>\n",
       "    </tr>\n",
       "  </tbody>\n",
       "</table>\n",
       "</div>"
      ],
      "text/plain": [
       "     Query Type  Queries  Matches  Unmatched  dc:description  dc:rights  \\\n",
       "7       Topical      192      128         64             121          0   \n",
       "5     Placename      188      147         41             147          0   \n",
       "2    Locational      179      136         43             131          1   \n",
       "0      Datatype       29       18         11              18          0   \n",
       "6   Publication       27       26          1              26          0   \n",
       "3  Organization       14       11          3              11          0   \n",
       "8       Unknown        7        2          5               2          0   \n",
       "1        Format        6        4          2               4          0   \n",
       "4        Person        1        0          1               0          0   \n",
       "\n",
       "   geom_type  dct:provenance  dc:format  dc:publisher  dc:title  dc:subject  \\\n",
       "7          0              16          0            29        89          76   \n",
       "5          1              78          0            66       129          59   \n",
       "2          0              28          0            39       106          85   \n",
       "0          0               6          0             3         8           2   \n",
       "6          0              14          1            23        22          21   \n",
       "3          0               3          0             7         9           3   \n",
       "8          0               0          0             0         0           0   \n",
       "1          0               1          1             2         4           4   \n",
       "4          0               0          0             0         0           0   \n",
       "\n",
       "   dc:creator  dct:spatial  MatchPerc  \n",
       "7          36           24  66.666667  \n",
       "5          67          117  78.191489  \n",
       "2          45           48  75.977654  \n",
       "0           3            7  62.068966  \n",
       "6          22           14  96.296296  \n",
       "3           6            3  78.571429  \n",
       "8           0            0  28.571429  \n",
       "1           2            1  66.666667  \n",
       "4           0            0   0.000000  "
      ]
     },
     "execution_count": 14,
     "metadata": {},
     "output_type": "execute_result"
    }
   ],
   "source": [
    "unique"
   ]
  },
  {
   "cell_type": "markdown",
   "metadata": {},
   "source": [
    "Make a bar chart showing both total queries for each Query Type and match percentages:"
   ]
  },
  {
   "cell_type": "code",
   "execution_count": 15,
   "metadata": {},
   "outputs": [
    {
     "data": {
      "image/png": "[encoded data removed]",
      "text/plain": [
       "<Figure size 576x360 with 1 Axes>"
      ]
     },
     "metadata": {
      "needs_background": "light"
     },
     "output_type": "display_data"
    }
   ],
   "source": [
    "plt.rcParams[\"font.family\"] = \"Arial\"\n",
    "\n",
    "\n",
    "fig1 = plt.figure(figsize=(8,5))\n",
    "\n",
    "\n",
    "# figure formatting\n",
    "plt.grid(color='#CCCCCC', linestyle='-.', linewidth=1.5, axis='y', zorder=1)\n",
    "plt.xticks(np.arange(9), ('Topical\\n'+'(n={:,})'.format(unique.Queries[7]),\n",
    "                                       'Placename\\n'+'(n={:,})'.format(unique.Queries[5]),\n",
    "                                       'Locational\\n'+'(n={:,})'.format(unique.Queries[2]),\n",
    "                                       'Data Type\\n'+'(n={:,})'.format(unique.Queries[0]),\n",
    "                                       'Publication\\n'+'(n={:,})'.format(unique.Queries[6]),\n",
    "                                       'Organization\\n'+'(n={:,})'.format(unique.Queries[3]),\n",
    "                                       'Unknown\\n'+'(n={:,})'.format(unique.Queries[8]),\n",
    "                                       'Format\\n'+'(n={:,})'.format(unique.Queries[1]),\n",
    "                                       'Person\\n'+'(n={:,})'.format(unique.Queries[4])),fontsize=9)\n",
    "plt.yticks(fontsize=9)\n",
    "plt.margins(0.025)\n",
    "\n",
    "# bars\n",
    "bar1 = plt.bar(unique['Query Type'], unique.Queries, zorder=2, label='Total Queries', color='#6B6B6B')\n",
    "bar2 = plt.bar(x = unique['Query Type'], height=unique.Matches, zorder=3, label = 'Matched Queries', color='#4F94CD')\n",
    "\n",
    "# bar annotations\n",
    "for b, p in zip(bar2, unique.MatchPerc):\n",
    "    bh = b.get_height()\n",
    "    perc = p\n",
    "    plt.annotate('{}%'.format(int(perc)), xy=(b.get_x() + b.get_width()/2,bh-9), ha='center', fontsize=10, color='white',  fontweight='bold')\n",
    "\n",
    "# axis labels and titles\n",
    "#plt.title('Proportions of Total Queries Matched to Any Metadata Field', fontsize=14)\n",
    "plt.ylabel('Number of Queries', fontsize=12)\n",
    "plt.xlabel('Query Types', fontsize=12)\n",
    "\n",
    "# legend\n",
    "plt.legend(framealpha=0, prop={'size': 9}, bbox_to_anchor=(0.5, 0., 0.5, 0.9))\n",
    "\n",
    "plt.show()"
   ]
  },
  {
   "cell_type": "markdown",
   "metadata": {},
   "source": [
    "Export bar chart to image:"
   ]
  },
  {
   "cell_type": "code",
   "execution_count": null,
   "metadata": {},
   "outputs": [],
   "source": [
    "fig1.savefig('C:\\\\Users\\\\phwh9568\\\\geometaanalytics\\\\fig1.png', dpi=300)"
   ]
  }
 ],
 "metadata": {
  "kernelspec": {
   "display_name": "Python 3",
   "language": "python",
   "name": "python3"
  },
  "language_info": {
   "codemirror_mode": {
    "name": "ipython",
    "version": 3
   },
   "file_extension": ".py",
   "mimetype": "text/x-python",
   "name": "python",
   "nbconvert_exporter": "python",
   "pygments_lexer": "ipython3",
   "version": "3.7.4"
  }
 },
 "nbformat": 4,
 "nbformat_minor": 2
}
